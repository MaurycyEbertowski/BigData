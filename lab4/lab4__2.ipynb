{
 "cells": [
  {
   "cell_type": "code",
   "execution_count": 0,
   "metadata": {
    "application/vnd.databricks.v1+cell": {
     "cellMetadata": {
      "byteLimit": 2048000,
      "rowLimit": 10000
     },
     "inputWidgets": {},
     "nuid": "4f8b8298-f24e-4d48-953d-dcc04305524f",
     "showTitle": false,
     "tableResultSettingsMap": {},
     "title": ""
    }
   },
   "outputs": [],
   "source": [
    "from pyspark.sql import SparkSession\n",
    "from pyspark.sql.window import Window\n",
    "from pyspark.sql.functions import *\n",
    "\n",
    "spark = SparkSession.builder.appName(\"lab4_2\").getOrCreate()"
   ]
  },
  {
   "cell_type": "code",
   "execution_count": 0,
   "metadata": {
    "application/vnd.databricks.v1+cell": {
     "cellMetadata": {
      "byteLimit": 2048000,
      "rowLimit": 10000
     },
     "inputWidgets": {},
     "nuid": "b7b37b29-32db-4e9b-8afc-874cd54f296b",
     "showTitle": false,
     "tableResultSettingsMap": {},
     "title": ""
    }
   },
   "outputs": [
    {
     "output_type": "display_data",
     "data": {
      "text/html": [
       "<style scoped>\n",
       "  .table-result-container {\n",
       "    max-height: 300px;\n",
       "    overflow: auto;\n",
       "  }\n",
       "  table, th, td {\n",
       "    border: 1px solid black;\n",
       "    border-collapse: collapse;\n",
       "  }\n",
       "  th, td {\n",
       "    padding: 5px;\n",
       "  }\n",
       "  th {\n",
       "    text-align: left;\n",
       "  }\n",
       "</style><div class='table-result-container'><table class='table-result'><thead style='background-color: white'><tr><th>AccountId</th><th>TranDate</th><th>TranAmt</th></tr></thead><tbody><tr><td>1</td><td>2011-01-01</td><td>500</td></tr><tr><td>1</td><td>2011-01-15</td><td>50</td></tr><tr><td>1</td><td>2011-01-22</td><td>250</td></tr><tr><td>1</td><td>2011-01-24</td><td>75</td></tr><tr><td>1</td><td>2011-01-26</td><td>125</td></tr><tr><td>1</td><td>2011-01-28</td><td>175</td></tr><tr><td>2</td><td>2011-01-01</td><td>500</td></tr><tr><td>2</td><td>2011-01-15</td><td>50</td></tr><tr><td>2</td><td>2011-01-22</td><td>25</td></tr><tr><td>2</td><td>2011-01-23</td><td>125</td></tr></tbody></table></div>"
      ]
     },
     "metadata": {
      "application/vnd.databricks.v1+output": {
       "addedWidgets": {},
       "aggData": [],
       "aggError": "",
       "aggOverflow": false,
       "aggSchema": [],
       "aggSeriesLimitReached": false,
       "aggType": "",
       "arguments": {},
       "columnCustomDisplayInfos": {},
       "data": [
        [
         1,
         "2011-01-01",
         500
        ],
        [
         1,
         "2011-01-15",
         50
        ],
        [
         1,
         "2011-01-22",
         250
        ],
        [
         1,
         "2011-01-24",
         75
        ],
        [
         1,
         "2011-01-26",
         125
        ],
        [
         1,
         "2011-01-28",
         175
        ],
        [
         2,
         "2011-01-01",
         500
        ],
        [
         2,
         "2011-01-15",
         50
        ],
        [
         2,
         "2011-01-22",
         25
        ],
        [
         2,
         "2011-01-23",
         125
        ]
       ],
       "datasetInfos": [],
       "dbfsResultPath": null,
       "isJsonSchema": true,
       "metadata": {},
       "overflow": false,
       "plotOptions": {
        "customPlotOptions": {},
        "displayType": "table",
        "pivotAggregation": null,
        "pivotColumns": null,
        "xColumns": null,
        "yColumns": null
       },
       "removedWidgets": [],
       "schema": [
        {
         "metadata": "{}",
         "name": "AccountId",
         "type": "\"long\""
        },
        {
         "metadata": "{}",
         "name": "TranDate",
         "type": "\"string\""
        },
        {
         "metadata": "{}",
         "name": "TranAmt",
         "type": "\"long\""
        }
       ],
       "type": "table"
      }
     },
     "output_type": "display_data"
    }
   ],
   "source": [
    "data = [\n",
    "    (1, '2011-01-01', 500), (1, '2011-01-15', 50), (1, '2011-01-22', 250),\n",
    "    (1, '2011-01-24', 75), (1, '2011-01-26', 125), (1, '2011-01-28', 175),\n",
    "    (2, '2011-01-01', 500), (2, '2011-01-15', 50), (2, '2011-01-22', 25),\n",
    "    (2, '2011-01-23', 125), (2, '2011-01-26', 200), (2, '2011-01-29', 250),\n",
    "    (3, '2011-01-01', 500), (3, '2011-01-15', 50), (3, '2011-01-22', 5000),\n",
    "    (3, '2011-01-25', 550), (3, '2011-01-27', 95), (3, '2011-01-30', 2500)\n",
    "]\n",
    "\n",
    "df = spark.createDataFrame(data, [\"AccountId\", \"TranDate\", \"TranAmt\"])\n",
    "\n",
    "display(df.limit(10))"
   ]
  },
  {
   "cell_type": "code",
   "execution_count": 0,
   "metadata": {
    "application/vnd.databricks.v1+cell": {
     "cellMetadata": {
      "byteLimit": 2048000,
      "rowLimit": 10000
     },
     "inputWidgets": {},
     "nuid": "dddefa4c-412d-48bc-93c6-915366aa4aeb",
     "showTitle": false,
     "tableResultSettingsMap": {},
     "title": ""
    }
   },
   "outputs": [
    {
     "output_type": "display_data",
     "data": {
      "text/html": [
       "<style scoped>\n",
       "  .table-result-container {\n",
       "    max-height: 300px;\n",
       "    overflow: auto;\n",
       "  }\n",
       "  table, th, td {\n",
       "    border: 1px solid black;\n",
       "    border-collapse: collapse;\n",
       "  }\n",
       "  th, td {\n",
       "    padding: 5px;\n",
       "  }\n",
       "  th {\n",
       "    text-align: left;\n",
       "  }\n",
       "</style><div class='table-result-container'><table class='table-result'><thead style='background-color: white'><tr><th>RowID</th><th>FName</th><th>Salary</th></tr></thead><tbody><tr><td>1</td><td>George</td><td>800</td></tr><tr><td>2</td><td>Sam</td><td>950</td></tr><tr><td>3</td><td>Diane</td><td>1100</td></tr><tr><td>4</td><td>Nicholas</td><td>1250</td></tr><tr><td>5</td><td>Samuel</td><td>1250</td></tr><tr><td>6</td><td>Patricia</td><td>1300</td></tr><tr><td>7</td><td>Brian</td><td>1500</td></tr><tr><td>8</td><td>Thomas</td><td>1600</td></tr><tr><td>9</td><td>Fran</td><td>2450</td></tr><tr><td>10</td><td>Debbie</td><td>2850</td></tr></tbody></table></div>"
      ]
     },
     "metadata": {
      "application/vnd.databricks.v1+output": {
       "addedWidgets": {},
       "aggData": [],
       "aggError": "",
       "aggOverflow": false,
       "aggSchema": [],
       "aggSeriesLimitReached": false,
       "aggType": "",
       "arguments": {},
       "columnCustomDisplayInfos": {},
       "data": [
        [
         1,
         "George",
         800
        ],
        [
         2,
         "Sam",
         950
        ],
        [
         3,
         "Diane",
         1100
        ],
        [
         4,
         "Nicholas",
         1250
        ],
        [
         5,
         "Samuel",
         1250
        ],
        [
         6,
         "Patricia",
         1300
        ],
        [
         7,
         "Brian",
         1500
        ],
        [
         8,
         "Thomas",
         1600
        ],
        [
         9,
         "Fran",
         2450
        ],
        [
         10,
         "Debbie",
         2850
        ]
       ],
       "datasetInfos": [],
       "dbfsResultPath": null,
       "isJsonSchema": true,
       "metadata": {},
       "overflow": false,
       "plotOptions": {
        "customPlotOptions": {},
        "displayType": "table",
        "pivotAggregation": null,
        "pivotColumns": null,
        "xColumns": null,
        "yColumns": null
       },
       "removedWidgets": [],
       "schema": [
        {
         "metadata": "{}",
         "name": "RowID",
         "type": "\"long\""
        },
        {
         "metadata": "{}",
         "name": "FName",
         "type": "\"string\""
        },
        {
         "metadata": "{}",
         "name": "Salary",
         "type": "\"long\""
        }
       ],
       "type": "table"
      }
     },
     "output_type": "display_data"
    }
   ],
   "source": [
    "data = [\n",
    "    (1, 'George', 800),\n",
    "    (2, 'Sam', 950),\n",
    "    (3, 'Diane', 1100),\n",
    "    (4, 'Nicholas', 1250),\n",
    "    (5, 'Samuel', 1250),\n",
    "    (6, 'Patricia', 1300),\n",
    "    (7, 'Brian', 1500),\n",
    "    (8, 'Thomas', 1600),\n",
    "    (9, 'Fran', 2450),\n",
    "    (10, 'Debbie', 2850),\n",
    "    (11, 'Mark', 2975),\n",
    "    (12, 'James', 3000),\n",
    "    (13, 'Cynthia', 3000),\n",
    "    (14, 'Christopher', 5000)\n",
    "]\n",
    "\n",
    "# Utworzenie DataFrame\n",
    "df_logical = spark.createDataFrame(data, [\"RowID\", \"FName\", \"Salary\"])\n",
    "\n",
    "# Wyświetlenie danych\n",
    "display(df_logical.limit(10))"
   ]
  },
  {
   "cell_type": "code",
   "execution_count": 0,
   "metadata": {
    "application/vnd.databricks.v1+cell": {
     "cellMetadata": {
      "byteLimit": 2048000,
      "rowLimit": 10000
     },
     "inputWidgets": {},
     "nuid": "4696910a-4dbe-4964-8f0c-04e43727ff05",
     "showTitle": false,
     "tableResultSettingsMap": {},
     "title": ""
    }
   },
   "outputs": [
    {
     "output_type": "display_data",
     "data": {
      "text/html": [
       "<style scoped>\n",
       "  .table-result-container {\n",
       "    max-height: 300px;\n",
       "    overflow: auto;\n",
       "  }\n",
       "  table, th, td {\n",
       "    border: 1px solid black;\n",
       "    border-collapse: collapse;\n",
       "  }\n",
       "  th, td {\n",
       "    padding: 5px;\n",
       "  }\n",
       "  th {\n",
       "    text-align: left;\n",
       "  }\n",
       "</style><div class='table-result-container'><table class='table-result'><thead style='background-color: white'><tr><th>AccountId</th><th>TranDate</th><th>TranAmt</th><th>RunTotalAmt</th></tr></thead><tbody><tr><td>1</td><td>2011-01-01</td><td>500</td><td>500</td></tr><tr><td>1</td><td>2011-01-15</td><td>50</td><td>550</td></tr><tr><td>1</td><td>2011-01-22</td><td>250</td><td>800</td></tr><tr><td>1</td><td>2011-01-24</td><td>75</td><td>875</td></tr><tr><td>1</td><td>2011-01-26</td><td>125</td><td>1000</td></tr><tr><td>1</td><td>2011-01-28</td><td>175</td><td>1175</td></tr><tr><td>2</td><td>2011-01-01</td><td>500</td><td>500</td></tr><tr><td>2</td><td>2011-01-15</td><td>50</td><td>550</td></tr><tr><td>2</td><td>2011-01-22</td><td>25</td><td>575</td></tr><tr><td>2</td><td>2011-01-23</td><td>125</td><td>700</td></tr></tbody></table></div>"
      ]
     },
     "metadata": {
      "application/vnd.databricks.v1+output": {
       "addedWidgets": {},
       "aggData": [],
       "aggError": "",
       "aggOverflow": false,
       "aggSchema": [],
       "aggSeriesLimitReached": false,
       "aggType": "",
       "arguments": {},
       "columnCustomDisplayInfos": {},
       "data": [
        [
         1,
         "2011-01-01",
         500,
         500
        ],
        [
         1,
         "2011-01-15",
         50,
         550
        ],
        [
         1,
         "2011-01-22",
         250,
         800
        ],
        [
         1,
         "2011-01-24",
         75,
         875
        ],
        [
         1,
         "2011-01-26",
         125,
         1000
        ],
        [
         1,
         "2011-01-28",
         175,
         1175
        ],
        [
         2,
         "2011-01-01",
         500,
         500
        ],
        [
         2,
         "2011-01-15",
         50,
         550
        ],
        [
         2,
         "2011-01-22",
         25,
         575
        ],
        [
         2,
         "2011-01-23",
         125,
         700
        ]
       ],
       "datasetInfos": [],
       "dbfsResultPath": null,
       "isJsonSchema": true,
       "metadata": {},
       "overflow": false,
       "plotOptions": {
        "customPlotOptions": {},
        "displayType": "table",
        "pivotAggregation": null,
        "pivotColumns": null,
        "xColumns": null,
        "yColumns": null
       },
       "removedWidgets": [],
       "schema": [
        {
         "metadata": "{}",
         "name": "AccountId",
         "type": "\"long\""
        },
        {
         "metadata": "{}",
         "name": "TranDate",
         "type": "\"string\""
        },
        {
         "metadata": "{}",
         "name": "TranAmt",
         "type": "\"long\""
        },
        {
         "metadata": "{}",
         "name": "RunTotalAmt",
         "type": "\"long\""
        }
       ],
       "type": "table"
      }
     },
     "output_type": "display_data"
    }
   ],
   "source": [
    "windowSpec = Window.partitionBy(\"AccountId\").orderBy(\"TranDate\")\n",
    "\n",
    "df_with_running_total = df.withColumn(\n",
    "    \"RunTotalAmt\", \n",
    "    sum(\"TranAmt\").over(windowSpec)\n",
    ")\n",
    "\n",
    "result = df_with_running_total.orderBy(\"AccountId\", \"TranDate\")\n",
    "\n",
    "display(result.limit(10))"
   ]
  },
  {
   "cell_type": "code",
   "execution_count": 0,
   "metadata": {
    "application/vnd.databricks.v1+cell": {
     "cellMetadata": {
      "byteLimit": 2048000,
      "rowLimit": 10000
     },
     "inputWidgets": {},
     "nuid": "9eb11549-0ee4-4947-b182-a52e75edf4c1",
     "showTitle": false,
     "tableResultSettingsMap": {},
     "title": ""
    }
   },
   "outputs": [
    {
     "output_type": "display_data",
     "data": {
      "text/html": [
       "<style scoped>\n",
       "  .table-result-container {\n",
       "    max-height: 300px;\n",
       "    overflow: auto;\n",
       "  }\n",
       "  table, th, td {\n",
       "    border: 1px solid black;\n",
       "    border-collapse: collapse;\n",
       "  }\n",
       "  th, td {\n",
       "    padding: 5px;\n",
       "  }\n",
       "  th {\n",
       "    text-align: left;\n",
       "  }\n",
       "</style><div class='table-result-container'><table class='table-result'><thead style='background-color: white'><tr><th>AccountId</th><th>TranDate</th><th>TranAmt</th><th>RunAvg</th><th>RunTranQty</th><th>RunSmallAmt</th><th>RunLargeAmt</th><th>RunTotalAmt</th></tr></thead><tbody><tr><td>1</td><td>2011-01-01</td><td>500</td><td>500.0</td><td>1</td><td>500</td><td>500</td><td>500</td></tr><tr><td>1</td><td>2011-01-15</td><td>50</td><td>275.0</td><td>2</td><td>50</td><td>500</td><td>550</td></tr><tr><td>1</td><td>2011-01-22</td><td>250</td><td>266.6666666666667</td><td>3</td><td>50</td><td>500</td><td>800</td></tr><tr><td>1</td><td>2011-01-24</td><td>75</td><td>218.75</td><td>4</td><td>50</td><td>500</td><td>875</td></tr><tr><td>1</td><td>2011-01-26</td><td>125</td><td>200.0</td><td>5</td><td>50</td><td>500</td><td>1000</td></tr><tr><td>1</td><td>2011-01-28</td><td>175</td><td>195.83333333333334</td><td>6</td><td>50</td><td>500</td><td>1175</td></tr><tr><td>2</td><td>2011-01-01</td><td>500</td><td>500.0</td><td>1</td><td>500</td><td>500</td><td>500</td></tr><tr><td>2</td><td>2011-01-15</td><td>50</td><td>275.0</td><td>2</td><td>50</td><td>500</td><td>550</td></tr><tr><td>2</td><td>2011-01-22</td><td>25</td><td>191.66666666666666</td><td>3</td><td>25</td><td>500</td><td>575</td></tr><tr><td>2</td><td>2011-01-23</td><td>125</td><td>175.0</td><td>4</td><td>25</td><td>500</td><td>700</td></tr></tbody></table></div>"
      ]
     },
     "metadata": {
      "application/vnd.databricks.v1+output": {
       "addedWidgets": {},
       "aggData": [],
       "aggError": "",
       "aggOverflow": false,
       "aggSchema": [],
       "aggSeriesLimitReached": false,
       "aggType": "",
       "arguments": {},
       "columnCustomDisplayInfos": {},
       "data": [
        [
         1,
         "2011-01-01",
         500,
         500.0,
         1,
         500,
         500,
         500
        ],
        [
         1,
         "2011-01-15",
         50,
         275.0,
         2,
         50,
         500,
         550
        ],
        [
         1,
         "2011-01-22",
         250,
         266.6666666666667,
         3,
         50,
         500,
         800
        ],
        [
         1,
         "2011-01-24",
         75,
         218.75,
         4,
         50,
         500,
         875
        ],
        [
         1,
         "2011-01-26",
         125,
         200.0,
         5,
         50,
         500,
         1000
        ],
        [
         1,
         "2011-01-28",
         175,
         195.83333333333334,
         6,
         50,
         500,
         1175
        ],
        [
         2,
         "2011-01-01",
         500,
         500.0,
         1,
         500,
         500,
         500
        ],
        [
         2,
         "2011-01-15",
         50,
         275.0,
         2,
         50,
         500,
         550
        ],
        [
         2,
         "2011-01-22",
         25,
         191.66666666666666,
         3,
         25,
         500,
         575
        ],
        [
         2,
         "2011-01-23",
         125,
         175.0,
         4,
         25,
         500,
         700
        ]
       ],
       "datasetInfos": [],
       "dbfsResultPath": null,
       "isJsonSchema": true,
       "metadata": {},
       "overflow": false,
       "plotOptions": {
        "customPlotOptions": {},
        "displayType": "table",
        "pivotAggregation": null,
        "pivotColumns": null,
        "xColumns": null,
        "yColumns": null
       },
       "removedWidgets": [],
       "schema": [
        {
         "metadata": "{}",
         "name": "AccountId",
         "type": "\"long\""
        },
        {
         "metadata": "{}",
         "name": "TranDate",
         "type": "\"string\""
        },
        {
         "metadata": "{}",
         "name": "TranAmt",
         "type": "\"long\""
        },
        {
         "metadata": "{}",
         "name": "RunAvg",
         "type": "\"double\""
        },
        {
         "metadata": "{}",
         "name": "RunTranQty",
         "type": "\"long\""
        },
        {
         "metadata": "{}",
         "name": "RunSmallAmt",
         "type": "\"long\""
        },
        {
         "metadata": "{}",
         "name": "RunLargeAmt",
         "type": "\"long\""
        },
        {
         "metadata": "{}",
         "name": "RunTotalAmt",
         "type": "\"long\""
        }
       ],
       "type": "table"
      }
     },
     "output_type": "display_data"
    }
   ],
   "source": [
    "result = df.withColumn(\"RunAvg\", avg(\"TranAmt\").over(windowSpec)) \\\n",
    "           .withColumn(\"RunTranQty\", count(\"*\").over(windowSpec)) \\\n",
    "           .withColumn(\"RunSmallAmt\", min(\"TranAmt\").over(windowSpec)) \\\n",
    "           .withColumn(\"RunLargeAmt\", max(\"TranAmt\").over(windowSpec)) \\\n",
    "           .withColumn(\"RunTotalAmt\", sum(\"TranAmt\").over(windowSpec)) \\\n",
    "           .orderBy(\"AccountId\", \"TranDate\")\n",
    "\n",
    "display(result.limit(10))"
   ]
  },
  {
   "cell_type": "code",
   "execution_count": 0,
   "metadata": {
    "application/vnd.databricks.v1+cell": {
     "cellMetadata": {
      "byteLimit": 2048000,
      "rowLimit": 10000
     },
     "inputWidgets": {},
     "nuid": "d8a664c7-76a2-4ee0-9aec-73e4ab754965",
     "showTitle": false,
     "tableResultSettingsMap": {},
     "title": ""
    }
   },
   "outputs": [
    {
     "output_type": "display_data",
     "data": {
      "text/html": [
       "<style scoped>\n",
       "  .table-result-container {\n",
       "    max-height: 300px;\n",
       "    overflow: auto;\n",
       "  }\n",
       "  table, th, td {\n",
       "    border: 1px solid black;\n",
       "    border-collapse: collapse;\n",
       "  }\n",
       "  th, td {\n",
       "    padding: 5px;\n",
       "  }\n",
       "  th {\n",
       "    text-align: left;\n",
       "  }\n",
       "</style><div class='table-result-container'><table class='table-result'><thead style='background-color: white'><tr><th>AccountId</th><th>TranDate</th><th>TranAmt</th><th>SlideAvg</th><th>SlideQty</th><th>SlideMin</th><th>SlideMax</th><th>SlideTotal</th><th>RN</th></tr></thead><tbody><tr><td>1</td><td>2011-01-01</td><td>500</td><td>500.0</td><td>1</td><td>500</td><td>500</td><td>500</td><td>1</td></tr><tr><td>1</td><td>2011-01-15</td><td>50</td><td>275.0</td><td>2</td><td>50</td><td>500</td><td>550</td><td>2</td></tr><tr><td>1</td><td>2011-01-22</td><td>250</td><td>266.6666666666667</td><td>3</td><td>50</td><td>500</td><td>800</td><td>3</td></tr><tr><td>1</td><td>2011-01-24</td><td>75</td><td>125.0</td><td>3</td><td>50</td><td>250</td><td>375</td><td>4</td></tr><tr><td>1</td><td>2011-01-26</td><td>125</td><td>150.0</td><td>3</td><td>75</td><td>250</td><td>450</td><td>5</td></tr><tr><td>1</td><td>2011-01-28</td><td>175</td><td>125.0</td><td>3</td><td>75</td><td>175</td><td>375</td><td>6</td></tr><tr><td>2</td><td>2011-01-01</td><td>500</td><td>500.0</td><td>1</td><td>500</td><td>500</td><td>500</td><td>1</td></tr><tr><td>2</td><td>2011-01-15</td><td>50</td><td>275.0</td><td>2</td><td>50</td><td>500</td><td>550</td><td>2</td></tr><tr><td>2</td><td>2011-01-22</td><td>25</td><td>191.66666666666666</td><td>3</td><td>25</td><td>500</td><td>575</td><td>3</td></tr><tr><td>2</td><td>2011-01-23</td><td>125</td><td>66.66666666666667</td><td>3</td><td>25</td><td>125</td><td>200</td><td>4</td></tr></tbody></table></div>"
      ]
     },
     "metadata": {
      "application/vnd.databricks.v1+output": {
       "addedWidgets": {},
       "aggData": [],
       "aggError": "",
       "aggOverflow": false,
       "aggSchema": [],
       "aggSeriesLimitReached": false,
       "aggType": "",
       "arguments": {},
       "columnCustomDisplayInfos": {},
       "data": [
        [
         1,
         "2011-01-01",
         500,
         500.0,
         1,
         500,
         500,
         500,
         1
        ],
        [
         1,
         "2011-01-15",
         50,
         275.0,
         2,
         50,
         500,
         550,
         2
        ],
        [
         1,
         "2011-01-22",
         250,
         266.6666666666667,
         3,
         50,
         500,
         800,
         3
        ],
        [
         1,
         "2011-01-24",
         75,
         125.0,
         3,
         50,
         250,
         375,
         4
        ],
        [
         1,
         "2011-01-26",
         125,
         150.0,
         3,
         75,
         250,
         450,
         5
        ],
        [
         1,
         "2011-01-28",
         175,
         125.0,
         3,
         75,
         175,
         375,
         6
        ],
        [
         2,
         "2011-01-01",
         500,
         500.0,
         1,
         500,
         500,
         500,
         1
        ],
        [
         2,
         "2011-01-15",
         50,
         275.0,
         2,
         50,
         500,
         550,
         2
        ],
        [
         2,
         "2011-01-22",
         25,
         191.66666666666666,
         3,
         25,
         500,
         575,
         3
        ],
        [
         2,
         "2011-01-23",
         125,
         66.66666666666667,
         3,
         25,
         125,
         200,
         4
        ]
       ],
       "datasetInfos": [],
       "dbfsResultPath": null,
       "isJsonSchema": true,
       "metadata": {},
       "overflow": false,
       "plotOptions": {
        "customPlotOptions": {},
        "displayType": "table",
        "pivotAggregation": null,
        "pivotColumns": null,
        "xColumns": null,
        "yColumns": null
       },
       "removedWidgets": [],
       "schema": [
        {
         "metadata": "{}",
         "name": "AccountId",
         "type": "\"long\""
        },
        {
         "metadata": "{}",
         "name": "TranDate",
         "type": "\"string\""
        },
        {
         "metadata": "{}",
         "name": "TranAmt",
         "type": "\"long\""
        },
        {
         "metadata": "{}",
         "name": "SlideAvg",
         "type": "\"double\""
        },
        {
         "metadata": "{}",
         "name": "SlideQty",
         "type": "\"long\""
        },
        {
         "metadata": "{}",
         "name": "SlideMin",
         "type": "\"long\""
        },
        {
         "metadata": "{}",
         "name": "SlideMax",
         "type": "\"long\""
        },
        {
         "metadata": "{}",
         "name": "SlideTotal",
         "type": "\"long\""
        },
        {
         "metadata": "{}",
         "name": "RN",
         "type": "\"integer\""
        }
       ],
       "type": "table"
      }
     },
     "output_type": "display_data"
    }
   ],
   "source": [
    "sliding_window = windowSpec.rowsBetween(-2, Window.currentRow)\n",
    "\n",
    "result = df.withColumn(\"SlideAvg\", avg(\"TranAmt\").over(sliding_window)) \\\n",
    "           .withColumn(\"SlideQty\", count(\"*\").over(sliding_window)) \\\n",
    "           .withColumn(\"SlideMin\", min(\"TranAmt\").over(sliding_window)) \\\n",
    "           .withColumn(\"SlideMax\", max(\"TranAmt\").over(sliding_window)) \\\n",
    "           .withColumn(\"SlideTotal\", sum(\"TranAmt\").over(sliding_window)) \\\n",
    "           .withColumn(\"RN\", row_number().over(windowSpec)) \\\n",
    "           .orderBy(\"AccountId\", \"TranDate\", \"RN\")\n",
    "\n",
    "display(result.limit(10))"
   ]
  },
  {
   "cell_type": "code",
   "execution_count": 0,
   "metadata": {
    "application/vnd.databricks.v1+cell": {
     "cellMetadata": {
      "byteLimit": 2048000,
      "rowLimit": 10000
     },
     "inputWidgets": {},
     "nuid": "3b5cc9a3-c71c-4dc2-b521-02d32d382a7a",
     "showTitle": false,
     "tableResultSettingsMap": {},
     "title": ""
    }
   },
   "outputs": [
    {
     "output_type": "display_data",
     "data": {
      "text/html": [
       "<style scoped>\n",
       "  .table-result-container {\n",
       "    max-height: 300px;\n",
       "    overflow: auto;\n",
       "  }\n",
       "  table, th, td {\n",
       "    border: 1px solid black;\n",
       "    border-collapse: collapse;\n",
       "  }\n",
       "  th, td {\n",
       "    padding: 5px;\n",
       "  }\n",
       "  th {\n",
       "    text-align: left;\n",
       "  }\n",
       "</style><div class='table-result-container'><table class='table-result'><thead style='background-color: white'><tr><th>RowID</th><th>FName</th><th>Salary</th><th>SumByRows</th><th>SumByRange</th></tr></thead><tbody><tr><td>1</td><td>George</td><td>800</td><td>800</td><td>800</td></tr><tr><td>2</td><td>Sam</td><td>950</td><td>1750</td><td>1750</td></tr><tr><td>3</td><td>Diane</td><td>1100</td><td>2850</td><td>2850</td></tr><tr><td>4</td><td>Nicholas</td><td>1250</td><td>4100</td><td>5350</td></tr><tr><td>5</td><td>Samuel</td><td>1250</td><td>5350</td><td>5350</td></tr><tr><td>6</td><td>Patricia</td><td>1300</td><td>6650</td><td>6650</td></tr><tr><td>7</td><td>Brian</td><td>1500</td><td>8150</td><td>8150</td></tr><tr><td>8</td><td>Thomas</td><td>1600</td><td>9750</td><td>9750</td></tr><tr><td>9</td><td>Fran</td><td>2450</td><td>12200</td><td>12200</td></tr><tr><td>10</td><td>Debbie</td><td>2850</td><td>15050</td><td>15050</td></tr></tbody></table></div>"
      ]
     },
     "metadata": {
      "application/vnd.databricks.v1+output": {
       "addedWidgets": {},
       "aggData": [],
       "aggError": "",
       "aggOverflow": false,
       "aggSchema": [],
       "aggSeriesLimitReached": false,
       "aggType": "",
       "arguments": {},
       "columnCustomDisplayInfos": {},
       "data": [
        [
         1,
         "George",
         800,
         800,
         800
        ],
        [
         2,
         "Sam",
         950,
         1750,
         1750
        ],
        [
         3,
         "Diane",
         1100,
         2850,
         2850
        ],
        [
         4,
         "Nicholas",
         1250,
         4100,
         5350
        ],
        [
         5,
         "Samuel",
         1250,
         5350,
         5350
        ],
        [
         6,
         "Patricia",
         1300,
         6650,
         6650
        ],
        [
         7,
         "Brian",
         1500,
         8150,
         8150
        ],
        [
         8,
         "Thomas",
         1600,
         9750,
         9750
        ],
        [
         9,
         "Fran",
         2450,
         12200,
         12200
        ],
        [
         10,
         "Debbie",
         2850,
         15050,
         15050
        ]
       ],
       "datasetInfos": [],
       "dbfsResultPath": null,
       "isJsonSchema": true,
       "metadata": {},
       "overflow": false,
       "plotOptions": {
        "customPlotOptions": {},
        "displayType": "table",
        "pivotAggregation": null,
        "pivotColumns": null,
        "xColumns": null,
        "yColumns": null
       },
       "removedWidgets": [],
       "schema": [
        {
         "metadata": "{}",
         "name": "RowID",
         "type": "\"long\""
        },
        {
         "metadata": "{}",
         "name": "FName",
         "type": "\"string\""
        },
        {
         "metadata": "{}",
         "name": "Salary",
         "type": "\"long\""
        },
        {
         "metadata": "{}",
         "name": "SumByRows",
         "type": "\"long\""
        },
        {
         "metadata": "{}",
         "name": "SumByRange",
         "type": "\"long\""
        }
       ],
       "type": "table"
      }
     },
     "output_type": "display_data"
    }
   ],
   "source": [
    "rows_window = Window.orderBy(\"Salary\").rowsBetween(Window.unboundedPreceding, Window.currentRow)\n",
    "\n",
    "range_window = Window.orderBy(\"Salary\").rangeBetween(Window.unboundedPreceding, Window.currentRow)\n",
    "\n",
    "result = df_logical.withColumn(\"SumByRows\", sum(\"Salary\").over(rows_window)) \\\n",
    "           .withColumn(\"SumByRange\", sum(\"Salary\").over(range_window)) \\\n",
    "           .orderBy(\"RowID\")\n",
    "\n",
    "display(result.limit(10))"
   ]
  },
  {
   "cell_type": "code",
   "execution_count": 0,
   "metadata": {
    "application/vnd.databricks.v1+cell": {
     "cellMetadata": {
      "byteLimit": 2048000,
      "rowLimit": 10000
     },
     "inputWidgets": {},
     "nuid": "8a0b82a9-7749-4486-ae11-8dfe33e3f2b2",
     "showTitle": false,
     "tableResultSettingsMap": {},
     "title": ""
    }
   },
   "outputs": [
    {
     "output_type": "display_data",
     "data": {
      "text/html": [
       "<style scoped>\n",
       "  .table-result-container {\n",
       "    max-height: 300px;\n",
       "    overflow: auto;\n",
       "  }\n",
       "  table, th, td {\n",
       "    border: 1px solid black;\n",
       "    border-collapse: collapse;\n",
       "  }\n",
       "  th, td {\n",
       "    padding: 5px;\n",
       "  }\n",
       "  th {\n",
       "    text-align: left;\n",
       "  }\n",
       "</style><div class='table-result-container'><table class='table-result'><thead style='background-color: white'><tr><th>RowID</th><th>FName</th><th>Salary</th><th>NextRowID</th><th>PrevRowID</th><th>RowNum</th></tr></thead><tbody><tr><td>1</td><td>George</td><td>800</td><td>null</td><td>null</td><td>1</td></tr><tr><td>2</td><td>Sam</td><td>950</td><td>null</td><td>null</td><td>2</td></tr><tr><td>3</td><td>Diane</td><td>1100</td><td>null</td><td>null</td><td>3</td></tr><tr><td>4</td><td>Nicholas</td><td>1250</td><td>5</td><td>null</td><td>4</td></tr><tr><td>5</td><td>Samuel</td><td>1250</td><td>null</td><td>4</td><td>5</td></tr><tr><td>6</td><td>Patricia</td><td>1300</td><td>null</td><td>null</td><td>6</td></tr><tr><td>7</td><td>Brian</td><td>1500</td><td>null</td><td>null</td><td>7</td></tr><tr><td>8</td><td>Thomas</td><td>1600</td><td>null</td><td>null</td><td>8</td></tr><tr><td>9</td><td>Fran</td><td>2450</td><td>null</td><td>null</td><td>9</td></tr><tr><td>10</td><td>Debbie</td><td>2850</td><td>null</td><td>null</td><td>10</td></tr></tbody></table></div>"
      ]
     },
     "metadata": {
      "application/vnd.databricks.v1+output": {
       "addedWidgets": {},
       "aggData": [],
       "aggError": "",
       "aggOverflow": false,
       "aggSchema": [],
       "aggSeriesLimitReached": false,
       "aggType": "",
       "arguments": {},
       "columnCustomDisplayInfos": {},
       "data": [
        [
         1,
         "George",
         800,
         null,
         null,
         1
        ],
        [
         2,
         "Sam",
         950,
         null,
         null,
         2
        ],
        [
         3,
         "Diane",
         1100,
         null,
         null,
         3
        ],
        [
         4,
         "Nicholas",
         1250,
         5,
         null,
         4
        ],
        [
         5,
         "Samuel",
         1250,
         null,
         4,
         5
        ],
        [
         6,
         "Patricia",
         1300,
         null,
         null,
         6
        ],
        [
         7,
         "Brian",
         1500,
         null,
         null,
         7
        ],
        [
         8,
         "Thomas",
         1600,
         null,
         null,
         8
        ],
        [
         9,
         "Fran",
         2450,
         null,
         null,
         9
        ],
        [
         10,
         "Debbie",
         2850,
         null,
         null,
         10
        ]
       ],
       "datasetInfos": [],
       "dbfsResultPath": null,
       "isJsonSchema": true,
       "metadata": {},
       "overflow": false,
       "plotOptions": {
        "customPlotOptions": {},
        "displayType": "table",
        "pivotAggregation": null,
        "pivotColumns": null,
        "xColumns": null,
        "yColumns": null
       },
       "removedWidgets": [],
       "schema": [
        {
         "metadata": "{}",
         "name": "RowID",
         "type": "\"long\""
        },
        {
         "metadata": "{}",
         "name": "FName",
         "type": "\"string\""
        },
        {
         "metadata": "{}",
         "name": "Salary",
         "type": "\"long\""
        },
        {
         "metadata": "{}",
         "name": "NextRowID",
         "type": "\"long\""
        },
        {
         "metadata": "{}",
         "name": "PrevRowID",
         "type": "\"long\""
        },
        {
         "metadata": "{}",
         "name": "RowNum",
         "type": "\"integer\""
        }
       ],
       "type": "table"
      }
     },
     "output_type": "display_data"
    }
   ],
   "source": [
    "#użycie funkcji okienkowych\n",
    "# z nieznanego mi powodu wyskakuje NameError: name 'last_value' is not defined, to samo dla first_value\n",
    "window_spec = Window.partitionBy(\"Salary\").orderBy(\"RowID\")\n",
    "\n",
    "window_spec_ordered = Window.orderBy(\"Salary\")\n",
    "#.withColumn(\"FirstRowID\", first_value(\"RowID\").over(window_spec_ordered)) \\\n",
    "#.withColumn(\"LastRowID\", last_value(\"RowID\").over(window_spec_ordered)) \\\n",
    "result = df_logical.withColumn(\"NextRowID\", lead(\"RowID\").over(window_spec)) \\\n",
    "           .withColumn(\"PrevRowID\", lag(\"RowID\").over(window_spec)) \\\n",
    "           .withColumn(\"RowNum\", row_number().over(window_spec_ordered)) \\\n",
    "           .orderBy(\"RowID\")\n",
    "\n",
    "display(result.limit(10))"
   ]
  }
 ],
 "metadata": {
  "application/vnd.databricks.v1+notebook": {
   "computePreferences": null,
   "dashboards": [],
   "environmentMetadata": {
    "base_environment": "",
    "environment_version": "1"
   },
   "inputWidgetPreferences": null,
   "language": "python",
   "notebookMetadata": {
    "pythonIndentUnit": 4
   },
   "notebookName": "lab4_2",
   "widgets": {}
  }
 },
 "nbformat": 4,
 "nbformat_minor": 0
}