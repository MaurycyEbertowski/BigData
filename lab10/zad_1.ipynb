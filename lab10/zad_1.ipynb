{
 "cells": [
  {
   "cell_type": "markdown",
   "metadata": {
    "application/vnd.databricks.v1+cell": {
     "cellMetadata": {},
     "inputWidgets": {},
     "nuid": "af112c94-2b49-4fbb-a109-bdf62704b50a",
     "showTitle": false,
     "tableResultSettingsMap": {},
     "title": ""
    }
   },
   "source": [
    "Zadanie 1\n"
   ]
  },
  {
   "cell_type": "markdown",
   "metadata": {
    "application/vnd.databricks.v1+cell": {
     "cellMetadata": {},
     "inputWidgets": {},
     "nuid": "fbcc8993-b9c5-480b-a7d5-7fc8d6fb9c1b",
     "showTitle": false,
     "tableResultSettingsMap": {},
     "title": ""
    }
   },
   "source": [
    "Użycie funkcji dropFields i danych Nested.json \n",
    "\n",
    "Usuń następujące atrybuty z columny:  \n",
    "\n",
    "\"attribute1\", \"endGradeSeparation\", \"elevationAgainstDirection\",\"formsPartOfPath\" "
   ]
  },
  {
   "cell_type": "code",
   "execution_count": 0,
   "metadata": {
    "application/vnd.databricks.v1+cell": {
     "cellMetadata": {
      "byteLimit": 2048000,
      "rowLimit": 10000
     },
     "inputWidgets": {},
     "nuid": "68cf57d5-543d-490a-879d-022177dadbac",
     "showTitle": false,
     "tableResultSettingsMap": {},
     "title": ""
    }
   },
   "outputs": [
    {
     "output_type": "stream",
     "name": "stdout",
     "output_type": "stream",
     "text": [
      "root\n |-- CaptureDate: string (nullable = true)\n |-- CaptureID: long (nullable = true)\n |-- FID: string (nullable = true)\n |-- Geometry: string (nullable = true)\n |-- attribute1: string (nullable = true)\n |-- changeType_source: string (nullable = true)\n |-- identifier: long (nullable = true)\n |-- pathLinkInfo: struct (nullable = true)\n |    |-- alternateName: string (nullable = true)\n |    |-- captureSpecification: string (nullable = true)\n |    |-- cycleFacility: string (nullable = true)\n |    |-- elevationGain: struct (nullable = true)\n |    |    |-- elevationAgainstDirection: double (nullable = true)\n |    |    |-- elevationInDirection: long (nullable = true)\n |    |-- endGradeSeparation: long (nullable = true)\n |    |-- endNode: string (nullable = true)\n |    |-- fictitious: boolean (nullable = true)\n |    |-- formOfWay: string (nullable = true)\n |    |-- formsPartOfPath: string (nullable = true)\n |    |-- formsPartOfStreet: array (nullable = true)\n |    |    |-- element: string (containsNull = true)\n |    |-- heightingMethod: string (nullable = true)\n |    |-- matchStatus: string (nullable = true)\n |    |-- pathName: string (nullable = true)\n |    |-- sourceFID: string (nullable = true)\n |    |-- startGradeSeparation: long (nullable = true)\n |    |-- startNode: string (nullable = true)\n |    |-- surfaceType: string (nullable = true)\n\n"
     ]
    }
   ],
   "source": [
    "df = spark.read.option(\"multiline\", \"true\").json(\"/FileStore/tables/Nested.json\")\n",
    "df.printSchema()\n"
   ]
  },
  {
   "cell_type": "code",
   "execution_count": 0,
   "metadata": {
    "application/vnd.databricks.v1+cell": {
     "cellMetadata": {
      "byteLimit": 2048000,
      "rowLimit": 10000
     },
     "inputWidgets": {},
     "nuid": "e68ae08a-a962-4277-b15b-c8500d8aca42",
     "showTitle": false,
     "tableResultSettingsMap": {},
     "title": ""
    }
   },
   "outputs": [],
   "source": [
    "from pyspark.sql.functions import col\n",
    "\n",
    "df1 = df.withColumn(\n",
    "    \"pathLinkInfo\",\n",
    "    col(\"pathLinkInfo\").dropFields(\"endGradeSeparation\", \"formsPartOfPath\")\n",
    ")\n",
    "\n",
    "df2 = df1.withColumn(\n",
    "    \"pathLinkInfo\",\n",
    "    col(\"pathLinkInfo\").withField(\n",
    "        \"elevationGain\",\n",
    "        col(\"pathLinkInfo.elevationGain\").dropFields(\"elevationAgainstDirection\")\n",
    "    )\n",
    ")\n"
   ]
  },
  {
   "cell_type": "code",
   "execution_count": 0,
   "metadata": {
    "application/vnd.databricks.v1+cell": {
     "cellMetadata": {
      "byteLimit": 2048000,
      "rowLimit": 10000
     },
     "inputWidgets": {},
     "nuid": "0d9f8711-7411-490e-8eb8-24dae747cd09",
     "showTitle": false,
     "tableResultSettingsMap": {},
     "title": ""
    }
   },
   "outputs": [
    {
     "output_type": "stream",
     "name": "stdout",
     "output_type": "stream",
     "text": [
      "+-------------------+---------+----------------+--------+-----------------+----------+---------------------------------------------------------------------------------------------------------------------------------------------------------------------------------------------------------------+\n|CaptureDate        |CaptureID|FID             |Geometry|changeType_source|identifier|pathLinkInfo                                                                                                                                                                                                   |\n+-------------------+---------+----------------+--------+-----------------+----------+---------------------------------------------------------------------------------------------------------------------------------------------------------------------------------------------------------------+\n|2020-12-31T00:00:00|3        |24b3sdf4353fc220|Geo223  |insert           |2         |{null, Urban, null, {0}, eb7f6122-f765-4113-8b77-908934437ee96, false, Path, [4fb3afad-2c56-4946-83d1-d734508705e2], DTM, Matched, null, MissingFID, 0, 147b7a78-04bf-4f9a-801d-61dc534a0a5, Sealed on surface}|\n+-------------------+---------+----------------+--------+-----------------+----------+---------------------------------------------------------------------------------------------------------------------------------------------------------------------------------------------------------------+\n\nroot\n |-- CaptureDate: string (nullable = true)\n |-- CaptureID: long (nullable = true)\n |-- FID: string (nullable = true)\n |-- Geometry: string (nullable = true)\n |-- changeType_source: string (nullable = true)\n |-- identifier: long (nullable = true)\n |-- pathLinkInfo: struct (nullable = true)\n |    |-- alternateName: string (nullable = true)\n |    |-- captureSpecification: string (nullable = true)\n |    |-- cycleFacility: string (nullable = true)\n |    |-- elevationGain: struct (nullable = true)\n |    |    |-- elevationInDirection: long (nullable = true)\n |    |-- endNode: string (nullable = true)\n |    |-- fictitious: boolean (nullable = true)\n |    |-- formOfWay: string (nullable = true)\n |    |-- formsPartOfStreet: array (nullable = true)\n |    |    |-- element: string (containsNull = true)\n |    |-- heightingMethod: string (nullable = true)\n |    |-- matchStatus: string (nullable = true)\n |    |-- pathName: string (nullable = true)\n |    |-- sourceFID: string (nullable = true)\n |    |-- startGradeSeparation: long (nullable = true)\n |    |-- startNode: string (nullable = true)\n |    |-- surfaceType: string (nullable = true)\n\n"
     ]
    }
   ],
   "source": [
    "df_cleaned = df2.drop(\"attribute1\")\n",
    "\n",
    "df_cleaned.show(truncate=False)\n",
    "df_cleaned.printSchema()"
   ]
  }
 ],
 "metadata": {
  "application/vnd.databricks.v1+notebook": {
   "computePreferences": null,
   "dashboards": [],
   "environmentMetadata": {
    "base_environment": "",
    "environment_version": "1"
   },
   "inputWidgetPreferences": null,
   "language": "python",
   "notebookMetadata": {
    "pythonIndentUnit": 4
   },
   "notebookName": "zad_1",
   "widgets": {}
  }
 },
 "nbformat": 4,
 "nbformat_minor": 0
}